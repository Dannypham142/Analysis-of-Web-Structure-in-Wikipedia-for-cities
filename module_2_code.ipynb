{
 "cells": [
  {
   "cell_type": "markdown",
   "metadata": {},
   "source": [
    "Write a Medium post on analyzing the structure of a Web-based network. Relevant networks or graphs include the Web graph (e.g., edges between domains or edges between articles in a single web site) or online social networks. In your analysis, define what it means for a node to be \"important\" and describe how you might find such a node in the graph.\n",
    "\n",
    "Your post should include the following:\n",
    "\n",
    "* Describe a question you think can be answered using network data, what specific stakeholder is asking this question, and what decision(s) the answer to this question will inform.\n",
    "* Describe the data that could answer this question, what fields it contains, and why it is relevant to your question.\n",
    "* Explain how you collected some subset of this data (e.g., libraries like requests, BeautifulSoup, tweepy, praw, etc. or from data archive).\n",
    "* Define what entity is represented by a node/vertex in the graph, and what relationship between these nodes does an edge represent.\n",
    "* Define \"importance\" in your graph and identify a set of at least three important nodes.\n",
    "* Provide an answer to your question, explaining your analysis of the data you collected, and how it answers that question.\n",
    "* Include figures or tables summarizing your findings. \n",
    "* Describe how you cleaned up this data, common bugs you think others might encounter, and how you fixed them, etc.\n",
    "* Discuss the limitations of your analysis. What’s missing? How might it be biased?\n",
    "* Include a link to one of your GitHub repositories that contains the code you have developed for this assignment."
   ]
  },
  {
   "cell_type": "code",
   "execution_count": 80,
   "metadata": {},
   "outputs": [],
   "source": [
    "import numpy as np\n",
    "import pandas as pd\n",
    "import requests\n",
    "import networkx as nx"
   ]
  },
  {
   "cell_type": "code",
   "execution_count": 81,
   "metadata": {},
   "outputs": [],
   "source": [
    "def get_links_for_page(api_url, city_title):\n",
    "    params = {\n",
    "        \"action\": \"query\",\n",
    "        \"format\": \"json\",\n",
    "        \"titles\": city_title,\n",
    "        \"prop\": \"links\",\n",
    "        \"pllimit\": \"max\"\n",
    "    }\n",
    "\n",
    "    links = []\n",
    "    response = requests.get(api_url, params=params)\n",
    "    data = response.json()\n",
    "    \n",
    "    pages = data['query']['pages']\n",
    "    for page_id in pages:\n",
    "        if 'links' in pages[page_id]:\n",
    "            links += [link['title'] for link in pages[page_id]['links']]\n",
    "\n",
    "    return links"
   ]
  },
  {
   "cell_type": "code",
   "execution_count": 82,
   "metadata": {},
   "outputs": [],
   "source": [
    "def build_network(api_url, city_title): # Note that this only calls the first layers of links, can extend the depth but would lead to very high computational time\n",
    "    network = {city_title: []}\n",
    "    links_to_visit = []\n",
    "    links_to_visit.append(city_title)\n",
    "\n",
    "    for title in links_to_visit:\n",
    "        links = get_links_for_page(api_url, title)\n",
    "        network[title] = links\n",
    "    return network"
   ]
  },
  {
   "cell_type": "code",
   "execution_count": 83,
   "metadata": {},
   "outputs": [],
   "source": [
    "api_url = \"https://en.wikipedia.org/w/api.php\"\n",
    "\n",
    "# Picking ten large US cities by population according to Investopedia\n",
    "city_titles = ['New York', 'Los Angeles', 'Chicago', 'Houston', 'Phoenix', 'Philadelphia', 'San Antonio', 'San Diego', 'Dallas', 'San Jose']\n",
    "\n",
    "# Creating a dictionary contain our cities with associated articles\n",
    "full_network = {}\n",
    "for city in city_titles:\n",
    "    full_network[city] = build_network(api_url, city)"
   ]
  },
  {
   "cell_type": "code",
   "execution_count": 84,
   "metadata": {},
   "outputs": [
    {
     "data": {
      "text/plain": [
       "dict_keys(['New York', 'Los Angeles', 'Chicago', 'Houston', 'Phoenix', 'Philadelphia', 'San Antonio', 'San Diego', 'Dallas', 'San Jose'])"
      ]
     },
     "execution_count": 84,
     "metadata": {},
     "output_type": "execute_result"
    }
   ],
   "source": [
    "full_network.keys()"
   ]
  },
  {
   "cell_type": "code",
   "execution_count": 91,
   "metadata": {},
   "outputs": [],
   "source": [
    "# Creating graph\n",
    "g = nx.Graph()\n",
    "for city in city_titles:\n",
    "    g.add_node(city)\n",
    "    edge_list = full_network[city][city]\n",
    "    for edge in edge_list:\n",
    "        g.add_edge(city, edge)"
   ]
  },
  {
   "cell_type": "code",
   "execution_count": 98,
   "metadata": {},
   "outputs": [],
   "source": [
    "degree_centrality = nx.degree_centrality(g)\n",
    "sorted_degree_centrality = sorted(degree_centrality.items(), key=lambda x: x[1], reverse=True)"
   ]
  },
  {
   "cell_type": "code",
   "execution_count": 100,
   "metadata": {},
   "outputs": [
    {
     "data": {
      "text/plain": [
       "[('Chicago', 0.1588697017268446),\n",
       " ('Dallas', 0.15855572998430142),\n",
       " ('Houston', 0.1576138147566719),\n",
       " ('Los Angeles', 0.15698587127158556),\n",
       " ('Philadelphia', 0.15698587127158556),\n",
       " ('San Antonio', 0.15698587127158556),\n",
       " ('San Diego', 0.15698587127158556),\n",
       " ('Phoenix', 0.0706436420722135),\n",
       " ('New York', 0.021664050235478807),\n",
       " ('San Jose', 0.006279434850863423)]"
      ]
     },
     "execution_count": 100,
     "metadata": {},
     "output_type": "execute_result"
    }
   ],
   "source": [
    "sorted_degree_centrality[:10] # First ten to only show the cities"
   ]
  },
  {
   "cell_type": "code",
   "execution_count": 102,
   "metadata": {},
   "outputs": [],
   "source": [
    "nx.write_graphml(g, path='graph.graphml')"
   ]
  }
 ],
 "metadata": {
  "kernelspec": {
   "display_name": "Python 3",
   "language": "python",
   "name": "python3"
  },
  "language_info": {
   "codemirror_mode": {
    "name": "ipython",
    "version": 3
   },
   "file_extension": ".py",
   "mimetype": "text/x-python",
   "name": "python",
   "nbconvert_exporter": "python",
   "pygments_lexer": "ipython3",
   "version": "3.12.6"
  }
 },
 "nbformat": 4,
 "nbformat_minor": 2
}
